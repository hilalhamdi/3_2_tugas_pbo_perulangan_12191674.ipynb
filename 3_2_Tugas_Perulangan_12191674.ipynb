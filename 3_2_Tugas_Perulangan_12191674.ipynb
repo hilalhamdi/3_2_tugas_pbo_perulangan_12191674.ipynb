{
 "cells": [
  {
   "cell_type": "code",
   "execution_count": null,
   "metadata": {
    "id": "fkV8YRAQlm-C"
   },
   "outputs": [],
   "source": []
  },
  {
   "cell_type": "markdown",
   "metadata": {
    "id": "lnkJ-zBHl3jp"
   },
   "source": [
    "## Access Element\n",
    "Keunikan lain dari looping dengan python adalah selain bahasa yang mudah dimengerti dalam looping, kita juga bisa mengakses elemen yang terdapat pada sebuah list. Berikut ini contohnya :\n",
    "``` javascript\n",
    "#Tugas 3.2.1\n",
    "count=[1,2,3,4,5] #elemen list\n",
    "\n",
    "for number in count: #looping untuk menampilkan semua elemen pada count\n",
    "    print(\"Ini adalah element count : \", number) #menampilkan elemen list pada count\n",
    "```\n",
    "Implekementasikan kode diatas, ketikan pada code cell di bawah ini, berikan penjelasan terkait kode diatas"
   ]
  },
  {
   "cell_type": "code",
   "execution_count": 9,
   "metadata": {
    "id": "xYjQqqNLm-dB"
   },
   "outputs": [
    {
     "name": "stdout",
     "output_type": "stream",
     "text": [
      "ini adalah element count :  1\n",
      "ini adalah element count :  2\n",
      "ini adalah element count :  3\n",
      "ini adalah element count :  4\n",
      "ini adalah element count :  5\n"
     ]
    }
   ],
   "source": [
    "# Jawaban Tugas 3.2.1\n",
    "angka=[1,2,3,4,5]\n",
    "    \n",
    "for i in {1,2,3,4,5}:\n",
    "        print(\"ini adalah element count : \",i)\n",
    "        \n"
   ]
  },
  {
   "cell_type": "markdown",
   "metadata": {
    "id": "figDWKAcnZRA"
   },
   "source": [
    "## Tugas Praktek 3.2.2\n",
    "1. Buatlah sebuah program yang bisa mengeluarkan angka 1 sampai 10.\n",
    "1. Buatlah sebuah program yang bisa mengeluarkan angka -20 sampai -50.\n",
    "3. Tampilan akan menunjukan \"Angka ganjil 1\" untuk angka ganjil dan \"Angka genap 2\" untuk angka genap. (Menggunakan looping for)\n",
    "\n",
    "**Note:** Kode dasar sudah disertakan, Anda cukup mengganti tanda # dengan nilai-nilai yang sesuai."
   ]
  },
  {
   "cell_type": "code",
   "execution_count": 7,
   "metadata": {
    "id": "MElhruOTntzZ"
   },
   "outputs": [
    {
     "name": "stdout",
     "output_type": "stream",
     "text": [
      "jumlah buku ke- 1\n",
      "jumlah buku ke- 2\n",
      "jumlah buku ke- 3\n",
      "jumlah buku ke- 4\n",
      "jumlah buku ke- 5\n",
      "jumlah buku ke- 6\n",
      "jumlah buku ke- 7\n",
      "jumlah buku ke- 8\n",
      "jumlah buku ke- 9\n",
      "jumlah buku ke- 10\n"
     ]
    }
   ],
   "source": [
    "#Jawaban Tugas 3.2.1.1\n",
    "\n",
    "for i in range(1,11):\n",
    "    print(\"jumlah buku ke-\",i)\n"
   ]
  },
  {
   "cell_type": "code",
   "execution_count": 25,
   "metadata": {
    "id": "NFtMjrQznuF2"
   },
   "outputs": [
    {
     "name": "stdout",
     "output_type": "stream",
     "text": [
      "angka  -20\n",
      "angka  -21\n",
      "angka  -22\n",
      "angka  -23\n",
      "angka  -24\n",
      "angka  -25\n",
      "angka  -26\n",
      "angka  -27\n",
      "angka  -28\n",
      "angka  -29\n",
      "angka  -30\n",
      "angka  -31\n",
      "angka  -32\n",
      "angka  -33\n",
      "angka  -34\n",
      "angka  -35\n",
      "angka  -36\n",
      "angka  -37\n",
      "angka  -38\n",
      "angka  -39\n",
      "angka  -40\n",
      "angka  -41\n",
      "angka  -42\n",
      "angka  -43\n",
      "angka  -44\n",
      "angka  -45\n",
      "angka  -46\n",
      "angka  -47\n",
      "angka  -48\n",
      "angka  -49\n",
      "angka  -50\n"
     ]
    }
   ],
   "source": [
    "#Jawaban Tugas 3.2.1.2\n",
    "#print negative number\n",
    "\n",
    "for i in range(-20,-51,-1):\n",
    "    print(\"angka \",i)\n",
    "\n",
    "\n",
    "\n"
   ]
  },
  {
   "cell_type": "code",
   "execution_count": 2,
   "metadata": {
    "id": "xpGigMPBpBy7"
   },
   "outputs": [
    {
     "name": "stdout",
     "output_type": "stream",
     "text": [
      "masukkan bilangan :1\n",
      "1 adalah bilangan ganjil\n"
     ]
    }
   ],
   "source": [
    "#Jawaban Tugas 3.2.1.3\n",
    "\n",
    "bil= int(input(\"masukkan bilangan :\"))\n",
    "\n",
    "if bil % 2 == 0:\n",
    "    print(\"%i adalah bilangan genap\" %bil)\n",
    "else:\n",
    "    print(\"%i adalah bilangan ganjil\" %bil)\n"
   ]
  },
  {
   "cell_type": "code",
   "execution_count": 3,
   "metadata": {},
   "outputs": [
    {
     "name": "stdout",
     "output_type": "stream",
     "text": [
      "masukkan bilangan :2\n",
      "2 adalah bilangan genap\n"
     ]
    }
   ],
   "source": [
    "#Jawaban Tugas 3.2.1.3\n",
    "\n",
    "bil= int(input(\"masukkan bilangan :\"))\n",
    "\n",
    "if bil % 2 == 0:\n",
    "    print(\"%i adalah bilangan genap\" %bil)\n",
    "else:\n",
    "    print(\"%i adalah bilangan ganjil\" %bil)\n"
   ]
  },
  {
   "cell_type": "code",
   "execution_count": null,
   "metadata": {},
   "outputs": [],
   "source": []
  }
 ],
 "metadata": {
  "colab": {
   "collapsed_sections": [],
   "name": "3.2_Tugas_Perulangan.ipynb",
   "provenance": []
  },
  "kernelspec": {
   "display_name": "Python 3",
   "language": "python",
   "name": "python3"
  },
  "language_info": {
   "codemirror_mode": {
    "name": "ipython",
    "version": 3
   },
   "file_extension": ".py",
   "mimetype": "text/x-python",
   "name": "python",
   "nbconvert_exporter": "python",
   "pygments_lexer": "ipython3",
   "version": "3.8.3"
  }
 },
 "nbformat": 4,
 "nbformat_minor": 1
}
